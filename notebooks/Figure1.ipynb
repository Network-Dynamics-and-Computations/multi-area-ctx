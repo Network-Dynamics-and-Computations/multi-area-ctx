{
 "cells": [
  {
   "cell_type": "markdown",
   "metadata": {
    "cell_id": "00000-3daf94dd-883d-4b77-86a3-86b1c40a6fd9",
    "deepnote_cell_height": 82,
    "deepnote_cell_type": "markdown",
    "output_cleared": false,
    "tags": []
   },
   "source": [
    "### imports"
   ]
  },
  {
   "cell_type": "code",
   "execution_count": 1,
   "metadata": {
    "cell_id": "00001-538995f0-dc25-4a01-8c75-fdcf8dbefdf5",
    "colab": {
     "base_uri": "https://localhost:8080/"
    },
    "deepnote_cell_height": 1345.25,
    "deepnote_cell_type": "code",
    "deepnote_to_be_reexecuted": false,
    "execution_millis": 21182,
    "execution_start": 1652102010525,
    "id": "lMorr79SGKLo",
    "is_code_hidden": false,
    "outputId": "e80b0b56-44a5-464d-d1cf-1348f5e5b216",
    "output_cleared": false,
    "source_hash": "50130d27"
   },
   "outputs": [],
   "source": [
    "import numpy as np\n",
    "import matplotlib.pyplot as plt\n",
    "from matplotlib import cm\n",
    "from scipy import linalg\n",
    "import scipy.stats as sts \n",
    "from matplotlib.gridspec import GridSpec\n",
    "import seaborn as sns\n",
    "import warnings\n",
    "import matplotlib.cbook\n",
    "import pandas as pd\n",
    "from sklearn.model_selection import train_test_split\n",
    "import pickle\n",
    "from joblib import Parallel, delayed  \n",
    "import multiprocessing\n",
    "num_cores = multiprocessing.cpu_count()\n",
    "from tqdm import tqdm\n",
    "from scipy.stats import ttest_1samp\n",
    "import random\n",
    "\n",
    "%load_ext autoreload\n",
    "%autoreload 2\n",
    "\n",
    "\n",
    "from scikits import bootstrap\n",
    "from sklearn.linear_model import LogisticRegression as lreg\n",
    "from sklearn.linear_model import Ridge \n",
    "from sklearn.model_selection import cross_val_score,LeaveOneOut,KFold\n",
    "from sklearn.metrics import accuracy_score,f1_score,r2_score\n",
    "from sklearn.metrics import accuracy_score\n",
    "\n",
    "\n",
    "sns.set_context(\"talk\", font_scale=0.9)\n",
    "sns.set_style({\"ytick.direction\": \"in\"})\n",
    "sns.set_style({\"xtick.direction\": \"in\"})"
   ]
  },
  {
   "cell_type": "markdown",
   "metadata": {},
   "source": [
    "### helpers"
   ]
  },
  {
   "cell_type": "code",
   "execution_count": 2,
   "metadata": {},
   "outputs": [],
   "source": [
    "                \n",
    "def normalize_vec(v):\n",
    "    return v / np.linalg.norm(v)\n",
    "    \n",
    "\n",
    "def gram_schmidt_1(v,vecs):\n",
    "    v = v.copy()\n",
    "    for i in range(len(vecs)):\n",
    "        v1 = normalize_vec(vecs[i])\n",
    "        v = v - (v @ v1) * v1\n",
    "    return v\n",
    "\n",
    "def angle_v(vector_1, vector_2):\n",
    "    unit_vector_1 = vector_1 / np.linalg.norm(vector_1)\n",
    "    unit_vector_2 = vector_2 / np.linalg.norm(vector_2)\n",
    "    dot_product = np.dot(unit_vector_1, unit_vector_2)\n",
    "    angle = np.degrees(np.arccos(dot_product))\n",
    "    return angle\n",
    "\n",
    "\n",
    "def plot_traj(x,y,color='gray',size=1):\n",
    "\n",
    "    plt.plot(x,y,color=color,lw=3)\n",
    "    # plot line from -2 to -1 point\n",
    "    plt.arrow(x[-2],y[-2],x[-1] - x[-2],y[-1] - y[-2],head_width=size*0.075,color=color,lw=1)\n",
    "    plt.plot(x[4],y[4],\"o\",color=color,ms=10)\n"
   ]
  },
  {
   "cell_type": "markdown",
   "metadata": {},
   "source": [
    "### load data"
   ]
  },
  {
   "cell_type": "code",
   "execution_count": 3,
   "metadata": {
    "cell_id": "00002-40fe8c02-75dd-40c9-9445-c82da75353d8",
    "deepnote_cell_height": 1127,
    "deepnote_cell_type": "code",
    "deepnote_output_heights": [
     310
    ],
    "deepnote_to_be_reexecuted": false,
    "execution_millis": 1279,
    "execution_start": 1652102031345,
    "source_hash": "6f63a586",
    "tags": []
   },
   "outputs": [],
   "source": [
    "### raw dataframe\n",
    "df_A1 = pd.read_csv(\"Data/RW_dataframe_A1_nozscore_smooth.csv\")\n",
    "df_PFC = pd.read_csv(\"Data/RW_dataframe_PFC_nozscore_smooth.csv\")\n",
    "\n",
    "### regression decoding\n",
    "f = open(\"Data/decoders/pseudo_regression_A1_PFC_dec.pickle\",\"rb\")\n",
    "all_decs = pickle.load(f)\n",
    "\n",
    "f = open(\"Data/decoders/pseudo_regression_A1_PFC_dec_shuffle.pickle\",\"rb\")\n",
    "all_decs_shuffle = pickle.load(f)\n",
    "\n",
    "### across-context decoding\n",
    "f = open(\"Data/decoders/pseudo_cross_A1_dec_fixed.pickle\",'rb')\n",
    "all_decs_A1 = pickle.load(f)\n",
    "\n",
    "f = open(\"Data/decoders/pseudo_cross_PFC_dec_fixed.pickle\",'rb')\n",
    "all_decs_PFC = pickle.load(f)\n",
    "\n",
    "f = open(\"Data/decoders/pseudo_cross_A1_dec_weights.pickle\",\"rb\")\n",
    "coef_A1 = pickle.load(f)\n",
    "\n",
    "f = open(\"Data/decoders/pseudo_cross_PFC_dec_weights.pickle\",\"rb\")\n",
    "coef_PFC = pickle.load(f)\n",
    "\n",
    "\n",
    "### definitions\n",
    "time = np.loadtxt(\"Data/time.txt\")\n",
    "stim_idx = (time>=0) & (time<=0.25)\n",
    "rel_color = \"#eba071\"\n",
    "\n",
    "\n",
    "area = 'A1'\n",
    "\n",
    "if area == 'A1':\n",
    "    cross_coef = coef_A1[:,0]\n",
    "    same_coef = coef_A1[:,1]\n",
    "    cross_decs = all_decs_A1[:,0]\n",
    "    same_decs = all_decs_A1[:,1]\n",
    "    df_area = df_A1\n",
    "else:\n",
    "    cross_coef = coef_PFC[:,0]\n",
    "    same_coef = coef_PFC[:,1]\n",
    "    cross_decs = all_decs_PFC[:,0]\n",
    "    same_decs = all_decs_PFC[:,1]\n",
    "    df_area = df_PFC"
   ]
  },
  {
   "cell_type": "markdown",
   "metadata": {},
   "source": [
    "### average decoding"
   ]
  },
  {
   "cell_type": "code",
   "execution_count": 4,
   "metadata": {
    "cell_id": "850a1d9734a546d19854f4ecf0d8c269",
    "deepnote_cell_height": 732,
    "deepnote_cell_type": "code",
    "deepnote_output_heights": [
     275
    ],
    "deepnote_to_be_reexecuted": false,
    "execution_millis": 963,
    "execution_start": 1652102035315,
    "source_hash": "a1d6c911",
    "tags": []
   },
   "outputs": [
    {
     "data": {
      "image/png": "[encoded data removed]",
      "text/plain": [
       "<Figure size 432x288 with 1 Axes>"
      ]
     },
     "metadata": {
      "needs_background": "light"
     },
     "output_type": "display_data"
    }
   ],
   "source": [
    "loc_rel = np.mean(all_decs[0,:,0,0,11:],1)\n",
    "pitch_rel = np.mean(all_decs[0,:,1,1,11:],1)\n",
    "\n",
    "loc_irel = np.mean(all_decs[0,:,0,1,11:],1)\n",
    "pitch_irel = np.mean(all_decs[0,:,1,0,11:],1)\n",
    "\n",
    "context_dec = np.mean(all_decs[0,:,2,1,11:],1)\n",
    "\n",
    "plt.bar([0,1,2,3,4],[np.mean(context_dec),np.mean(loc_rel),np.mean(loc_irel),np.mean(pitch_rel),np.mean(pitch_irel)],\n",
    "        color=['black',rel_color,'gray',rel_color,'gray'])\n",
    "plt.errorbar([0,1,2,3,4],[np.mean(context_dec),np.mean(loc_rel),np.mean(loc_irel),np.mean(pitch_rel),np.mean(pitch_irel)],\n",
    "            [2*np.std(context_dec),2*np.std(loc_rel),2*np.std(loc_irel),2*np.std(pitch_rel),2*np.std(pitch_irel)],color='black',fmt='None')\n",
    "\n",
    "plt.xticks([0,1,2,3,4],['context\\ndecoding','location\\ndecoding','','pitch\\ndecoding',''])\n",
    "plt.ylim(0.5,1)\n",
    "plt.yticks([0.5,1],[50,100])\n",
    "plt.ylabel('decoding accuracy (%)')\n",
    "sns.despine()\n",
    "\n",
    "# plt.savefig(\"figures/paper/Fig1_decoding_vars.svg\")\n"
   ]
  },
  {
   "cell_type": "markdown",
   "metadata": {
    "cell_id": "3ab34eec-0d99-4f96-8170-189091bb015a",
    "deepnote_cell_height": 70,
    "deepnote_cell_type": "markdown",
    "tags": []
   },
   "source": [
    "## calculate sensory and decision axis"
   ]
  },
  {
   "cell_type": "code",
   "execution_count": 5,
   "metadata": {
    "cell_id": "25feafb7-95a9-4a15-924d-7b7695e06ae8",
    "deepnote_cell_height": 729,
    "deepnote_cell_type": "code",
    "deepnote_to_be_reexecuted": false,
    "execution_millis": 186,
    "execution_start": 1652102173859,
    "source_hash": "49b05f8c",
    "tags": []
   },
   "outputs": [],
   "source": [
    "n_folds = 500\n",
    "\n",
    "irrelevant_axis_location = np.mean(same_coef[0,1][:,11:16],1)\n",
    "relevant_axis_location = np.mean(same_coef[0,0][:,11:16],1)\n",
    "decision_axis_location = np.mean(same_coef[0,0][:,17:],1)\n",
    "\n",
    "orth_axis_location = np.array([gram_schmidt_1(relevant_axis_location[i],[irrelevant_axis_location[i]]) for i in range(n_folds)])\n",
    "irrelevant_axis_location = np.array([gram_schmidt_1(irrelevant_axis_location[i],[decision_axis_location[i]]) for i in range(n_folds)])\n",
    "\n",
    "irrelevant_axis_pitch = np.mean(same_coef[1,0][:,11:16],1)\n",
    "relevant_axis_pitch = np.mean(same_coef[1,1][:,11:16],1)\n",
    "decision_axis_pitch = np.mean(same_coef[1,1][:,17:],1)\n",
    "\n",
    "orth_axis_pitch = np.array([gram_schmidt_1(relevant_axis_pitch[i],[irrelevant_axis_pitch[i]])  for i in range(n_folds)])\n",
    "irrelevant_axis_pitch = np.array([gram_schmidt_1(irrelevant_axis_pitch[i],[decision_axis_pitch[i]])  for i in range(n_folds)])\n",
    "\n",
    "dict_projections = {}\n",
    "\n",
    "for k, stim_df in df_area.groupby(\"stims\"):\n",
    "    dict_projections[k] = []\n",
    "    avg_by_neuron = stim_df.groupby('neuron_id').mean().reset_index()\n",
    "    spcounts_by_time = avg_by_neuron.values[:,-40:][:,15:25] /0.05 # in hz\n",
    "\n",
    "    #spcounts_by_time -= np.mean(spcounts_by_time[:,:5],1)[:,None]\n",
    "    #spcounts_by_time, spcounts_test_same,labels_train_same,labels_test_same = df_train_test_split(stim_df,\"stims\",10)\n",
    "    #spcounts_by_time = spcounts_by_time[:,:,15:24] # bin size in sec\n",
    "\n",
    "    dict_projections[k].append(spcounts_by_time.T @ normalize_vec(irrelevant_axis_location.T))\n",
    "\n",
    "    dict_projections[k].append(spcounts_by_time.T @ normalize_vec(orth_axis_location.T))\n",
    "\n",
    "\n",
    "    dict_projections[k].append(spcounts_by_time.T @ normalize_vec(irrelevant_axis_pitch.T))\n",
    "\n",
    "    dict_projections[k].append(spcounts_by_time.T @ normalize_vec(orth_axis_pitch.T))\n",
    "\n",
    "    dict_projections[k] = np.array(dict_projections[k])\n"
   ]
  },
  {
   "cell_type": "code",
   "execution_count": 6,
   "metadata": {
    "cell_id": "86c950a700244bce9016a78f7fd03fc9",
    "deepnote_cell_height": 1038,
    "deepnote_cell_type": "code",
    "deepnote_output_heights": [
     194,
     194
    ],
    "deepnote_to_be_reexecuted": false,
    "execution_millis": 926,
    "execution_start": 1652102241373,
    "source_hash": "35c093a4",
    "tags": []
   },
   "outputs": [
    {
     "data": {
      "text/plain": [
       "Text(0, 0.5, 'degrees $(\\\\circ)$')"
      ]
     },
     "execution_count": 6,
     "metadata": {},
     "output_type": "execute_result"
    },
    {
     "data": {
      "image/png": "[encoded data removed]",
      "text/plain": [
       "<Figure size 72x216 with 1 Axes>"
      ]
     },
     "metadata": {
      "needs_background": "light"
     },
     "output_type": "display_data"
    },
    {
     "data": {
      "image/png": "[encoded data removed]",
      "text/plain": [
       "<Figure size 72x216 with 1 Axes>"
      ]
     },
     "metadata": {
      "needs_background": "light"
     },
     "output_type": "display_data"
    }
   ],
   "source": [
    "\n",
    "angles_location = [angle_v(irrelevant_axis_location[f], relevant_axis_location[f]) for f in range(n_folds)]\n",
    "angles_pitch = [angle_v(irrelevant_axis_pitch[f], relevant_axis_pitch[f]) for f in range(n_folds)]\n",
    "\n",
    "plt.figure(figsize=(1,3))\n",
    "plt.violinplot(angles_location)\n",
    "plt.ylim(0,90)\n",
    "plt.yticks([0,int(np.mean(angles_location)),90])\n",
    "sns.despine(bottom=True)\n",
    "plt.xticks([])\n",
    "plt.ylabel('degrees 'r'$(\\circ)$')\n",
    "# plt.savefig('figures/paper/angles_location.svg')\n",
    "\n",
    "plt.figure(figsize=(1,3))\n",
    "plt.violinplot(angles_pitch)\n",
    "plt.ylim(0,90)\n",
    "plt.yticks([0,int(np.mean(angles_pitch)),90])\n",
    "sns.despine(bottom=True)\n",
    "plt.xticks([])\n",
    "plt.ylabel('degrees 'r'$(\\circ)$')\n",
    "# plt.savefig('figures/paper/angles_pitch.svg')"
   ]
  },
  {
   "cell_type": "code",
   "execution_count": 7,
   "metadata": {
    "cell_id": "8aaec8d3-8065-4a4b-9fb4-9aa9c7f2cb13",
    "deepnote_cell_height": 621,
    "deepnote_cell_type": "code",
    "deepnote_to_be_reexecuted": false,
    "execution_millis": 58,
    "execution_start": 1652102174568,
    "source_hash": "e81820d2",
    "tags": []
   },
   "outputs": [],
   "source": [
    "\n",
    "\n",
    "# go - no-go, relevant\n",
    "location_difference_relevant_1 = (dict_projections['ri_lo_lc'] - dict_projections['le_lo_lc'])\n",
    "location_difference_relevant_2 = (dict_projections['ri_hi_lc'] - dict_projections['le_hi_lc'])\n",
    "location_difference_relevant = location_difference_relevant_1/2 + location_difference_relevant_2/2\n",
    "\n",
    "# go - no-go, irrelevant\n",
    "location_difference_irrelevant_1 = (dict_projections['ri_lo_pc'] - dict_projections['le_lo_pc'])\n",
    "location_difference_irrelevant_2 = (dict_projections['ri_hi_pc'] - dict_projections['le_hi_pc'])\n",
    "location_difference_irrelevant = location_difference_irrelevant_1/2 + location_difference_irrelevant_2/2\n",
    "\n",
    "# same for pitch context\n",
    "pitch_difference_relevant_1 = (dict_projections['le_hi_pc'] - dict_projections['le_lo_pc']) \n",
    "pitch_difference_relevant_2 = (dict_projections['ri_hi_pc'] - dict_projections['ri_lo_pc'])\n",
    "pitch_difference_relevant = pitch_difference_relevant_1/2 + pitch_difference_relevant_2/2\n",
    "\n",
    "pitch_difference_irrelevant_1 = (dict_projections['le_hi_lc'] - dict_projections['le_lo_lc'])\n",
    "pitch_difference_irrelevant_2 = (dict_projections['ri_hi_lc'] - dict_projections['ri_lo_lc'])\n",
    "pitch_difference_irrelevant = pitch_difference_irrelevant_1/2 + pitch_difference_irrelevant_2/2\n",
    "\n",
    "\n"
   ]
  },
  {
   "cell_type": "code",
   "execution_count": 8,
   "metadata": {
    "cell_id": "46b2d44f-118b-4a0b-a335-0a7f9a11b539",
    "deepnote_cell_height": 2293,
    "deepnote_cell_type": "code",
    "deepnote_output_heights": [
     234
    ],
    "deepnote_to_be_reexecuted": false,
    "execution_millis": 1348,
    "execution_start": 1652102801885,
    "source_hash": "e0ab9619",
    "tags": []
   },
   "outputs": [
    {
     "data": {
      "image/png": "[encoded data removed]",
      "text/plain": [
       "<Figure size 936x216 with 4 Axes>"
      ]
     },
     "metadata": {
      "needs_background": "light"
     },
     "output_type": "display_data"
    }
   ],
   "source": [
    "plt.figure(figsize=(13,3))\n",
    "\n",
    "plt.subplot(1,4,1)\n",
    "plt.title('trained on irrelevant feature')\n",
    "\n",
    "err_bars = np.array([np.percentile(a,[18,84]) for a in same_decs[0,1,:].T])\n",
    "plt.fill_between(time[9:39],err_bars[:,0],err_bars[:,1],color=\"gray\",alpha=0.3)\n",
    "plt.plot(time[9:39],np.mean(same_decs,2)[0,1],color='gray',label='irrelevant')\n",
    "\n",
    "err_bars = np.array([np.percentile(a,[18,84]) for a in cross_decs[0,1,:].T])\n",
    "plt.fill_between(time[9:39],err_bars[:,0],err_bars[:,1],color=\"#e7ab79\",alpha=0.3)\n",
    "plt.plot(time[9:39],np.mean(cross_decs,2)[0,1],color='#e7ab79',label='relevant')\n",
    "plt.plot(time[9:39],np.ones(30)*0.5,'k--')\n",
    "plt.fill_between([0,.25],[0.3,0.30],[.325,.325],color=\"black\",alpha=0.2)\n",
    "\n",
    "plt.xlim(-0.5,0.75)\n",
    "plt.ylim(0.3,1)\n",
    "plt.yticks([0.5,1],[50,100])\n",
    "plt.ylabel('accuracy (%)')\n",
    "plt.xticks([-.5,-0.25,0,0.25,0.5,0.75],['-.5','-.25','0','.25','.5','.75'])\n",
    "plt.legend(bbox_to_anchor=(0.7, 1.05),fontsize=14,title='tested on',title_fontsize=14)\n",
    "plt.xlabel('time from stimulus (s)')\n",
    "sns.despine()\n",
    "\n",
    "plt.subplot(1,4,2)\n",
    "plt.title('trained on relevant feature')\n",
    "err_bars = np.array([np.percentile(a,[18,84]) for a in same_decs[0,0,:].T])\n",
    "plt.fill_between(time[9:39],err_bars[:,0],err_bars[:,1],color=\"#e7ab79\",alpha=0.3)\n",
    "plt.plot(time[9:39],np.mean(same_decs,2)[0,0],color='#e7ab79',label='relevant')\n",
    "\n",
    "err_bars = np.array([np.percentile(a,[18,84]) for a in cross_decs[0,0,:].T])\n",
    "plt.fill_between(time[9:39],err_bars[:,0],err_bars[:,1],color=\"gray\",alpha=0.3)\n",
    "plt.plot(time[9:39],np.mean(cross_decs,2)[0,0],color='gray',label='irrelevant')\n",
    "\n",
    "plt.plot(time[9:39],np.ones(30)*0.5,'k--')\n",
    "plt.fill_between([0,.25],[0.3,0.30],[.325,.325],color=\"black\",alpha=0.2)\n",
    "\n",
    "plt.xlim(-0.5,0.75)\n",
    "plt.ylim(0.3,1)\n",
    "plt.yticks([0.5,1],[])\n",
    "plt.xticks([-.5,-0.25,0,0.25,0.5,0.75],['-.5','-.25','0','.25','.5','.75'])\n",
    "plt.xlabel('time from stimulus (s)')\n",
    "plt.ylim(0.3,1)\n",
    "plt.yticks([0.5,1],[])\n",
    "\n",
    "\n",
    "plt.subplot(1,4,3)\n",
    "\n",
    "\n",
    "plt.title(\"location subspace\")\n",
    "\n",
    "## average pairs difference, then plot\n",
    "x1,y1 = np.mean(location_difference_relevant_1[0],1),np.mean(location_difference_relevant_1[1],1)\n",
    "x2, y2 = np.mean(location_difference_relevant_2[0],1),np.mean(location_difference_relevant_2[1],1)\n",
    "\n",
    "x = x1/2 + x2/2\n",
    "y = y1/2 + y2/2\n",
    "\n",
    "plot_traj(x,y,'#e7ab79',size=2)\n",
    "\n",
    "x1,y1 = np.mean(location_difference_irrelevant_1[0],1),np.mean(location_difference_irrelevant_1[1],1)\n",
    "x2,y2 = np.mean(location_difference_irrelevant_2[0],1),np.mean(location_difference_irrelevant_2[1],1)\n",
    "\n",
    "x = x1/2 + x2/2\n",
    "y = y1/2 + y2/2\n",
    "plot_traj(x,y,'gray',size=2)\n",
    "\n",
    "\n",
    "plt.xlabel('sensory (hz)')\n",
    "plt.ylabel(\"selection (hz)\")\n",
    "\n",
    "plt.ylim(-0.4,2)\n",
    "plt.xlim(-0.4,2)\n",
    "plt.yticks(range(0,5))\n",
    "plt.xticks(range(0,5))\n",
    "\n",
    "\n",
    "plt.subplot(1,4,4)\n",
    "plt.title(\"pitch subspace\")\n",
    "\n",
    "x1,y1 = np.mean(-pitch_difference_relevant_1[2],1),np.mean(-pitch_difference_relevant_1[3],1)\n",
    "x2, y2 = np.mean(-pitch_difference_relevant_2[2],1),np.mean(-pitch_difference_relevant_2[3],1)\n",
    "\n",
    "x = x1/2 + x2/2\n",
    "y = y1/2 + y2/2\n",
    "\n",
    "plot_traj(x,y,'#e7ab79')\n",
    "\n",
    "x1,y1 = np.mean(-pitch_difference_irrelevant_1[2],1),np.mean(-pitch_difference_irrelevant_1[3],1)\n",
    "x2,y2 = np.mean(-pitch_difference_irrelevant_2[2],1),np.mean(-pitch_difference_irrelevant_2[3],1)\n",
    "\n",
    "x = x1/2 + x2/2\n",
    "y = y1/2 + y2/2\n",
    "\n",
    "plot_traj(x,y,'gray')\n",
    "\n",
    "\n",
    "plt.xlabel('sensory (hz)')\n",
    "\n",
    "plt.ylim(-0.4,2)\n",
    "plt.xlim(-0.4,2)\n",
    "plt.yticks(range(0,3))\n",
    "plt.xticks(range(0,3))\n",
    "\n",
    "sns.despine()\n",
    "\n",
    "\n",
    "sns.despine()\n",
    "#plt.tight_layout()\n",
    "plt.savefig('../Fig1_%s_pitch.svg' % area)"
   ]
  }
 ],
 "metadata": {
  "colab": {
   "collapsed_sections": [],
   "name": "decoders_geometry.ipynb",
   "provenance": []
  },
  "deepnote": {},
  "deepnote_execution_queue": [],
  "deepnote_notebook_id": "da0ed67d-d6e8-4906-a0b7-d2b304c554bd",
  "interpreter": {
   "hash": "1668f0542f08727bf10ceb46c305b56ec036ab443936e5c34ae15d1d566ba0c7"
  },
  "kernelspec": {
   "display_name": "Python 3.8.5 ('base')",
   "language": "python",
   "name": "python3"
  },
  "language_info": {
   "codemirror_mode": {
    "name": "ipython",
    "version": 3
   },
   "file_extension": ".py",
   "mimetype": "text/x-python",
   "name": "python",
   "nbconvert_exporter": "python",
   "pygments_lexer": "ipython3",
   "version": "3.8.5"
  },
  "widgets": {
   "application/vnd.jupyter.widget-state+json": {
    "24c4e50c6b134b90bf0ccc127ab31d4f": {
     "model_module": "@jupyter-widgets/base",
     "model_name": "LayoutModel",
     "state": {
      "_model_module": "@jupyter-widgets/base",
      "_model_module_version": "1.2.0",
      "_model_name": "LayoutModel",
      "_view_count": null,
      "_view_module": "@jupyter-widgets/base",
      "_view_module_version": "1.2.0",
      "_view_name": "LayoutView",
      "align_content": null,
      "align_items": null,
      "align_self": null,
      "border": null,
      "bottom": null,
      "display": null,
      "flex": null,
      "flex_flow": null,
      "grid_area": null,
      "grid_auto_columns": null,
      "grid_auto_flow": null,
      "grid_auto_rows": null,
      "grid_column": null,
      "grid_gap": null,
      "grid_row": null,
      "grid_template_areas": null,
      "grid_template_columns": null,
      "grid_template_rows": null,
      "height": null,
      "justify_content": null,
      "justify_items": null,
      "left": null,
      "margin": null,
      "max_height": null,
      "max_width": null,
      "min_height": null,
      "min_width": null,
      "object_fit": null,
      "object_position": null,
      "order": null,
      "overflow": null,
      "overflow_x": null,
      "overflow_y": null,
      "padding": null,
      "right": null,
      "top": null,
      "visibility": null,
      "width": null
     }
    },
    "2b9c7055ab3941c8927b340b4f6cb37e": {
     "model_module": "@jupyter-widgets/output",
     "model_name": "OutputModel",
     "state": {
      "_dom_classes": [],
      "_model_module": "@jupyter-widgets/output",
      "_model_module_version": "1.0.0",
      "_model_name": "OutputModel",
      "_view_count": null,
      "_view_module": "@jupyter-widgets/output",
      "_view_module_version": "1.0.0",
      "_view_name": "OutputView",
      "layout": "IPY_MODEL_24c4e50c6b134b90bf0ccc127ab31d4f",
      "msg_id": "",
      "outputs": [
       {
        "image/png": "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\n",
        "metadata": {
         "needs_background": "light",
         "tags": []
        },
        "output_type": "display_data",
        "text/plain": "<Figure size 1200x400 with 3 Axes>"
       }
      ]
     }
    },
    "337fc45f90474829a6c513eb636dc6ca": {
     "model_module": "@jupyter-widgets/controls",
     "model_name": "FloatSliderModel",
     "state": {
      "_dom_classes": [],
      "_model_module": "@jupyter-widgets/controls",
      "_model_module_version": "1.5.0",
      "_model_name": "FloatSliderModel",
      "_view_count": null,
      "_view_module": "@jupyter-widgets/controls",
      "_view_module_version": "1.5.0",
      "_view_name": "FloatSliderView",
      "continuous_update": true,
      "description": "elev",
      "description_tooltip": null,
      "disabled": false,
      "layout": "IPY_MODEL_ad738c4f7a944295915ef5d6268087c4",
      "max": 180,
      "min": -180,
      "orientation": "horizontal",
      "readout": true,
      "readout_format": ".2f",
      "step": 10,
      "style": "IPY_MODEL_ced5a2f36b354393986ea8e4b70c9ad4",
      "value": 0
     }
    },
    "3e729eeb4f634a1e82154385f33e94aa": {
     "model_module": "@jupyter-widgets/base",
     "model_name": "LayoutModel",
     "state": {
      "_model_module": "@jupyter-widgets/base",
      "_model_module_version": "1.2.0",
      "_model_name": "LayoutModel",
      "_view_count": null,
      "_view_module": "@jupyter-widgets/base",
      "_view_module_version": "1.2.0",
      "_view_name": "LayoutView",
      "align_content": null,
      "align_items": null,
      "align_self": null,
      "border": null,
      "bottom": null,
      "display": null,
      "flex": null,
      "flex_flow": null,
      "grid_area": null,
      "grid_auto_columns": null,
      "grid_auto_flow": null,
      "grid_auto_rows": null,
      "grid_column": null,
      "grid_gap": null,
      "grid_row": null,
      "grid_template_areas": null,
      "grid_template_columns": null,
      "grid_template_rows": null,
      "height": null,
      "justify_content": null,
      "justify_items": null,
      "left": null,
      "margin": null,
      "max_height": null,
      "max_width": null,
      "min_height": null,
      "min_width": null,
      "object_fit": null,
      "object_position": null,
      "order": null,
      "overflow": null,
      "overflow_x": null,
      "overflow_y": null,
      "padding": null,
      "right": null,
      "top": null,
      "visibility": null,
      "width": null
     }
    },
    "507a9bbb6b0a4410b5f8d36a1fcf905b": {
     "model_module": "@jupyter-widgets/controls",
     "model_name": "FloatSliderModel",
     "state": {
      "_dom_classes": [],
      "_model_module": "@jupyter-widgets/controls",
      "_model_module_version": "1.5.0",
      "_model_name": "FloatSliderModel",
      "_view_count": null,
      "_view_module": "@jupyter-widgets/controls",
      "_view_module_version": "1.5.0",
      "_view_name": "FloatSliderView",
      "continuous_update": true,
      "description": "azim",
      "description_tooltip": null,
      "disabled": false,
      "layout": "IPY_MODEL_3e729eeb4f634a1e82154385f33e94aa",
      "max": 180,
      "min": -180,
      "orientation": "horizontal",
      "readout": true,
      "readout_format": ".2f",
      "step": 10,
      "style": "IPY_MODEL_d9fdfb31adef46d98d8669c494bebcb7",
      "value": 0
     }
    },
    "984f61d47a7a43dfbc5ac36d5b57a87d": {
     "model_module": "@jupyter-widgets/controls",
     "model_name": "VBoxModel",
     "state": {
      "_dom_classes": [
       "widget-interact"
      ],
      "_model_module": "@jupyter-widgets/controls",
      "_model_module_version": "1.5.0",
      "_model_name": "VBoxModel",
      "_view_count": null,
      "_view_module": "@jupyter-widgets/controls",
      "_view_module_version": "1.5.0",
      "_view_name": "VBoxView",
      "box_style": "",
      "children": [
       "IPY_MODEL_507a9bbb6b0a4410b5f8d36a1fcf905b",
       "IPY_MODEL_337fc45f90474829a6c513eb636dc6ca",
       "IPY_MODEL_2b9c7055ab3941c8927b340b4f6cb37e"
      ],
      "layout": "IPY_MODEL_fb3fe4037b3f408298b9fb99feb8ea51"
     }
    },
    "ad738c4f7a944295915ef5d6268087c4": {
     "model_module": "@jupyter-widgets/base",
     "model_name": "LayoutModel",
     "state": {
      "_model_module": "@jupyter-widgets/base",
      "_model_module_version": "1.2.0",
      "_model_name": "LayoutModel",
      "_view_count": null,
      "_view_module": "@jupyter-widgets/base",
      "_view_module_version": "1.2.0",
      "_view_name": "LayoutView",
      "align_content": null,
      "align_items": null,
      "align_self": null,
      "border": null,
      "bottom": null,
      "display": null,
      "flex": null,
      "flex_flow": null,
      "grid_area": null,
      "grid_auto_columns": null,
      "grid_auto_flow": null,
      "grid_auto_rows": null,
      "grid_column": null,
      "grid_gap": null,
      "grid_row": null,
      "grid_template_areas": null,
      "grid_template_columns": null,
      "grid_template_rows": null,
      "height": null,
      "justify_content": null,
      "justify_items": null,
      "left": null,
      "margin": null,
      "max_height": null,
      "max_width": null,
      "min_height": null,
      "min_width": null,
      "object_fit": null,
      "object_position": null,
      "order": null,
      "overflow": null,
      "overflow_x": null,
      "overflow_y": null,
      "padding": null,
      "right": null,
      "top": null,
      "visibility": null,
      "width": null
     }
    },
    "ced5a2f36b354393986ea8e4b70c9ad4": {
     "model_module": "@jupyter-widgets/controls",
     "model_name": "SliderStyleModel",
     "state": {
      "_model_module": "@jupyter-widgets/controls",
      "_model_module_version": "1.5.0",
      "_model_name": "SliderStyleModel",
      "_view_count": null,
      "_view_module": "@jupyter-widgets/base",
      "_view_module_version": "1.2.0",
      "_view_name": "StyleView",
      "description_width": "",
      "handle_color": null
     }
    },
    "d9fdfb31adef46d98d8669c494bebcb7": {
     "model_module": "@jupyter-widgets/controls",
     "model_name": "SliderStyleModel",
     "state": {
      "_model_module": "@jupyter-widgets/controls",
      "_model_module_version": "1.5.0",
      "_model_name": "SliderStyleModel",
      "_view_count": null,
      "_view_module": "@jupyter-widgets/base",
      "_view_module_version": "1.2.0",
      "_view_name": "StyleView",
      "description_width": "",
      "handle_color": null
     }
    },
    "fb3fe4037b3f408298b9fb99feb8ea51": {
     "model_module": "@jupyter-widgets/base",
     "model_name": "LayoutModel",
     "state": {
      "_model_module": "@jupyter-widgets/base",
      "_model_module_version": "1.2.0",
      "_model_name": "LayoutModel",
      "_view_count": null,
      "_view_module": "@jupyter-widgets/base",
      "_view_module_version": "1.2.0",
      "_view_name": "LayoutView",
      "align_content": null,
      "align_items": null,
      "align_self": null,
      "border": null,
      "bottom": null,
      "display": null,
      "flex": null,
      "flex_flow": null,
      "grid_area": null,
      "grid_auto_columns": null,
      "grid_auto_flow": null,
      "grid_auto_rows": null,
      "grid_column": null,
      "grid_gap": null,
      "grid_row": null,
      "grid_template_areas": null,
      "grid_template_columns": null,
      "grid_template_rows": null,
      "height": null,
      "justify_content": null,
      "justify_items": null,
      "left": null,
      "margin": null,
      "max_height": null,
      "max_width": null,
      "min_height": null,
      "min_width": null,
      "object_fit": null,
      "object_position": null,
      "order": null,
      "overflow": null,
      "overflow_x": null,
      "overflow_y": null,
      "padding": null,
      "right": null,
      "top": null,
      "visibility": null,
      "width": null
     }
    }
   }
  }
 },
 "nbformat": 4,
 "nbformat_minor": 0
}
